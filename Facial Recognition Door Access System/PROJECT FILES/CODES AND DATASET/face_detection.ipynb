{
 "cells": [
  {
   "cell_type": "code",
   "execution_count": 1,
   "id": "f382f72d",
   "metadata": {},
   "outputs": [],
   "source": [
    "import dlib"
   ]
  },
  {
   "cell_type": "code",
   "execution_count": 2,
   "id": "ce02bdb1",
   "metadata": {},
   "outputs": [],
   "source": [
    "import numpy as np"
   ]
  },
  {
   "cell_type": "code",
   "execution_count": 3,
   "id": "ad9df6f5",
   "metadata": {},
   "outputs": [],
   "source": [
    "import cv2 as cv"
   ]
  },
  {
   "cell_type": "code",
   "execution_count": 4,
   "id": "bbd989cc",
   "metadata": {},
   "outputs": [],
   "source": [
    "import time"
   ]
  },
  {
   "cell_type": "code",
   "execution_count": 5,
   "id": "e1a9f56e",
   "metadata": {},
   "outputs": [],
   "source": [
    "import sys\n",
    "from pathlib import Path"
   ]
  },
  {
   "cell_type": "code",
   "execution_count": 6,
   "id": "3b5597ab",
   "metadata": {},
   "outputs": [],
   "source": [
    "detector = dlib.get_frontal_face_detector()"
   ]
  },
  {
   "cell_type": "code",
   "execution_count": 7,
   "id": "ea20ae4e",
   "metadata": {},
   "outputs": [],
   "source": [
    "def saveImg(img, username,count):\n",
    "    Path(\"dataset/{}\".format(username)).mkdir(parents=True, exist_ok = True)\n",
    "    cv.imwrite(\"dataset/{}/{}_{}.jpg\".format(username, username, count), img)\n",
    "    print(\"saved {}_{}\".format(username, count))"
   ]
  },
  {
   "cell_type": "code",
   "execution_count": 10,
   "id": "5425c3de",
   "metadata": {
    "scrolled": false
   },
   "outputs": [
    {
     "name": "stdout",
     "output_type": "stream",
     "text": [
      "enter your name...\n",
      "om\n",
      "saved om_0\n",
      "saved om_1\n",
      "saved om_2\n",
      "saved om_3\n",
      "saved om_4\n",
      "Escape hit, closing...\n"
     ]
    }
   ],
   "source": [
    "img = cv.VideoCapture(0)\n",
    "count =0\n",
    "l=0\n",
    "r=0\n",
    "t=0\n",
    "b=0\n",
    "while True:\n",
    "    ret, frame = img.read()\n",
    "    img_copy = frame\n",
    "\n",
    "    if ret:\n",
    "        img_rgb = cv.cvtColor(frame, cv.COLOR_BGR2RGB)\n",
    "        \n",
    "        dect_box = detector(img_rgb)\n",
    "            \n",
    "        for box in dect_box:\n",
    "            l=box.left()+8\n",
    "            r=box.right()-8\n",
    "            b=box.bottom()\n",
    "            t=box.top()\n",
    "            cv.rectangle(frame, (box.left(), box.top()-10),(box.right(),box.bottom()), (0,255,0),1)\n",
    "        cv.imshow('video', frame)    \n",
    "    \n",
    "    \n",
    "    crop_img = img_copy[t:b,l:r]\n",
    "    \n",
    "    k = cv.waitKey(1)\n",
    "\n",
    "    if k%256 == 27:\n",
    "        # ESC pressed\n",
    "        print(\"Escape hit, closing...\")\n",
    "        break\n",
    "    elif k == ord('s'):\n",
    "        print('enter your name...')\n",
    "        Person_name = input()\n",
    "    elif k%256 == 32:\n",
    "        # SPACE pressed\n",
    "        saveImg(crop_img, Person_name, count)\n",
    "        count = count+1\n",
    "\n",
    "img.release()\n",
    "cv.destroyAllWindows()"
   ]
  },
  {
   "cell_type": "code",
   "execution_count": 9,
   "id": "197542e2",
   "metadata": {},
   "outputs": [],
   "source": [
    "img.release()\n",
    "cv.destroyAllWindows()"
   ]
  },
  {
   "cell_type": "code",
   "execution_count": null,
   "id": "760736a0",
   "metadata": {},
   "outputs": [],
   "source": []
  },
  {
   "cell_type": "code",
   "execution_count": null,
   "id": "348dfd41",
   "metadata": {},
   "outputs": [],
   "source": []
  }
 ],
 "metadata": {
  "kernelspec": {
   "display_name": "Python 3 (ipykernel)",
   "language": "python",
   "name": "python3"
  },
  "language_info": {
   "codemirror_mode": {
    "name": "ipython",
    "version": 3
   },
   "file_extension": ".py",
   "mimetype": "text/x-python",
   "name": "python",
   "nbconvert_exporter": "python",
   "pygments_lexer": "ipython3",
   "version": "3.9.12"
  }
 },
 "nbformat": 4,
 "nbformat_minor": 5
}
